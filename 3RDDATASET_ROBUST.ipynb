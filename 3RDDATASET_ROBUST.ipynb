{
 "cells": [
  {
   "cell_type": "markdown",
   "id": "62b61484-39b4-4cce-a287-54a7febf7e55",
   "metadata": {},
   "source": [
    "### Comments \n",
    "- The main goal to this third analysis is to create a robust model, using different aproaches in order to identify patterns for fraudalent transactions, the following dataset contains very limitted features, and based on the previous results is a very important part for fraudalent transactions. \n",
    "- However this will help to futures researches: this dataset can also serve as a foundation for future research. Other researchers who encounter similar challenges may find this insight helpful in guiding for future investigations.\n",
    "- Also to show the challenges and difficulties to achieve the ideal goal on Credit Card Fraud Detection with not a porper dataset disigned for that purpose. \n",
    "- The following Dataset is available in: https://data.gov.ie/dataset/cbm03-detailed-daily-card-payments/resource/bf7cfa88-5d7b-4139-a3f9-a7216d9fd07e?inner_span=True "
   ]
  },
  {
   "cell_type": "code",
   "execution_count": 1,
   "id": "f3835297-e676-4548-8b3f-c2c2e8aa6ae9",
   "metadata": {
    "tags": []
   },
   "outputs": [],
   "source": [
    "# Let's start importing the libraries we need for the project \n",
    "import pandas as pd\n",
    "import numpy as np\n",
    "import pandas as pd \n",
    "import seaborn as sns\n",
    "import matplotlib.pyplot as plt\n",
    "import plotly.express as px\n",
    "from matplotlib import colors\n",
    "import plotly.graph_objs as go\n",
    "from plotly.offline import iplot\n",
    "from plotly.subplots import make_subplots\n",
    "from scipy import stats\n",
    "from sklearn.preprocessing import LabelEncoder\n",
    "from sklearn.preprocessing import LabelEncoder, OneHotEncoder\n",
    "from datetime import datetime\n",
    "from sklearn.preprocessing import StandardScaler\n",
    "from sklearn.model_selection import train_test_split\n",
    "from keras.models import Sequential\n",
    "from keras.layers import Dense\n",
    "from imblearn.over_sampling import SMOTE\n",
    "from keras.layers import Dropout\n",
    "from sklearn.metrics import roc_curve, roc_auc_score\n",
    "from sklearn.metrics import accuracy_score,classification_report,confusion_matrix\n",
    "from sklearn.linear_model import LassoCV"
   ]
  },
  {
   "cell_type": "code",
   "execution_count": 2,
   "id": "55d4a349-9927-47f3-8478-e50589fde7de",
   "metadata": {},
   "outputs": [
    {
     "data": {
      "text/html": [
       "<div>\n",
       "<style scoped>\n",
       "    .dataframe tbody tr th:only-of-type {\n",
       "        vertical-align: middle;\n",
       "    }\n",
       "\n",
       "    .dataframe tbody tr th {\n",
       "        vertical-align: top;\n",
       "    }\n",
       "\n",
       "    .dataframe thead th {\n",
       "        text-align: right;\n",
       "    }\n",
       "</style>\n",
       "<table border=\"1\" class=\"dataframe\">\n",
       "  <thead>\n",
       "    <tr style=\"text-align: right;\">\n",
       "      <th></th>\n",
       "      <th>STATISTIC</th>\n",
       "      <th>Statistic Label</th>\n",
       "      <th>TLIST(D1)</th>\n",
       "      <th>Daily</th>\n",
       "      <th>C03634V04374</th>\n",
       "      <th>Daily and Seven Day Rolling Totals</th>\n",
       "      <th>UNIT</th>\n",
       "      <th>VALUE</th>\n",
       "    </tr>\n",
       "  </thead>\n",
       "  <tbody>\n",
       "    <tr>\n",
       "      <th>0</th>\n",
       "      <td>CBM03C01</td>\n",
       "      <td>Debit Card Transactions - Total</td>\n",
       "      <td>2020M03D01</td>\n",
       "      <td>2020 March 01</td>\n",
       "      <td>10</td>\n",
       "      <td>Daily total</td>\n",
       "      <td>Number</td>\n",
       "      <td>3259740.0</td>\n",
       "    </tr>\n",
       "    <tr>\n",
       "      <th>1</th>\n",
       "      <td>CBM03C01</td>\n",
       "      <td>Debit Card Transactions - Total</td>\n",
       "      <td>2020M03D01</td>\n",
       "      <td>2020 March 01</td>\n",
       "      <td>20</td>\n",
       "      <td>Seven day rolling total</td>\n",
       "      <td>Number</td>\n",
       "      <td>NaN</td>\n",
       "    </tr>\n",
       "    <tr>\n",
       "      <th>2</th>\n",
       "      <td>CBM03C01</td>\n",
       "      <td>Debit Card Transactions - Total</td>\n",
       "      <td>2020M03D02</td>\n",
       "      <td>2020 March 02</td>\n",
       "      <td>10</td>\n",
       "      <td>Daily total</td>\n",
       "      <td>Number</td>\n",
       "      <td>3245856.0</td>\n",
       "    </tr>\n",
       "    <tr>\n",
       "      <th>3</th>\n",
       "      <td>CBM03C01</td>\n",
       "      <td>Debit Card Transactions - Total</td>\n",
       "      <td>2020M03D02</td>\n",
       "      <td>2020 March 02</td>\n",
       "      <td>20</td>\n",
       "      <td>Seven day rolling total</td>\n",
       "      <td>Number</td>\n",
       "      <td>NaN</td>\n",
       "    </tr>\n",
       "    <tr>\n",
       "      <th>4</th>\n",
       "      <td>CBM03C01</td>\n",
       "      <td>Debit Card Transactions - Total</td>\n",
       "      <td>2020M03D03</td>\n",
       "      <td>2020 March 03</td>\n",
       "      <td>10</td>\n",
       "      <td>Daily total</td>\n",
       "      <td>Number</td>\n",
       "      <td>3392281.0</td>\n",
       "    </tr>\n",
       "  </tbody>\n",
       "</table>\n",
       "</div>"
      ],
      "text/plain": [
       "  STATISTIC                  Statistic Label   TLIST(D1)          Daily  \\\n",
       "0  CBM03C01  Debit Card Transactions - Total  2020M03D01  2020 March 01   \n",
       "1  CBM03C01  Debit Card Transactions - Total  2020M03D01  2020 March 01   \n",
       "2  CBM03C01  Debit Card Transactions - Total  2020M03D02  2020 March 02   \n",
       "3  CBM03C01  Debit Card Transactions - Total  2020M03D02  2020 March 02   \n",
       "4  CBM03C01  Debit Card Transactions - Total  2020M03D03  2020 March 03   \n",
       "\n",
       "   C03634V04374 Daily and Seven Day Rolling Totals    UNIT      VALUE  \n",
       "0            10                        Daily total  Number  3259740.0  \n",
       "1            20            Seven day rolling total  Number        NaN  \n",
       "2            10                        Daily total  Number  3245856.0  \n",
       "3            20            Seven day rolling total  Number        NaN  \n",
       "4            10                        Daily total  Number  3392281.0  "
      ]
     },
     "execution_count": 2,
     "metadata": {},
     "output_type": "execute_result"
    }
   ],
   "source": [
    "# Let's call the first lines of the dataset\n",
    "df3 = pd.read_csv(\"CBM03.20230807224929.csv\")\n",
    "df3.head()"
   ]
  },
  {
   "cell_type": "code",
   "execution_count": 3,
   "id": "b562b011-3d26-49bc-a834-156b3b78abc5",
   "metadata": {
    "tags": []
   },
   "outputs": [
    {
     "data": {
      "text/html": [
       "<div>\n",
       "<style scoped>\n",
       "    .dataframe tbody tr th:only-of-type {\n",
       "        vertical-align: middle;\n",
       "    }\n",
       "\n",
       "    .dataframe tbody tr th {\n",
       "        vertical-align: top;\n",
       "    }\n",
       "\n",
       "    .dataframe thead th {\n",
       "        text-align: right;\n",
       "    }\n",
       "</style>\n",
       "<table border=\"1\" class=\"dataframe\">\n",
       "  <thead>\n",
       "    <tr style=\"text-align: right;\">\n",
       "      <th></th>\n",
       "      <th>STATISTIC</th>\n",
       "      <th>Statistic Label</th>\n",
       "      <th>TLIST(D1)</th>\n",
       "      <th>Daily</th>\n",
       "      <th>C03634V04374</th>\n",
       "      <th>Daily and Seven Day Rolling Totals</th>\n",
       "      <th>UNIT</th>\n",
       "      <th>VALUE</th>\n",
       "    </tr>\n",
       "  </thead>\n",
       "  <tbody>\n",
       "    <tr>\n",
       "      <th>9459</th>\n",
       "      <td>CBM03C14</td>\n",
       "      <td>Debit and Credit Card Volumes - Gross New Spen...</td>\n",
       "      <td>2021M01D30</td>\n",
       "      <td>2021 January 30</td>\n",
       "      <td>20</td>\n",
       "      <td>Seven day rolling total</td>\n",
       "      <td>Euro Thousand</td>\n",
       "      <td>1339817.0</td>\n",
       "    </tr>\n",
       "    <tr>\n",
       "      <th>9460</th>\n",
       "      <td>CBM03C14</td>\n",
       "      <td>Debit and Credit Card Volumes - Gross New Spen...</td>\n",
       "      <td>2021M01D31</td>\n",
       "      <td>2021 January 31</td>\n",
       "      <td>10</td>\n",
       "      <td>Daily total</td>\n",
       "      <td>Euro Thousand</td>\n",
       "      <td>126365.0</td>\n",
       "    </tr>\n",
       "    <tr>\n",
       "      <th>9461</th>\n",
       "      <td>CBM03C14</td>\n",
       "      <td>Debit and Credit Card Volumes - Gross New Spen...</td>\n",
       "      <td>2021M01D31</td>\n",
       "      <td>2021 January 31</td>\n",
       "      <td>20</td>\n",
       "      <td>Seven day rolling total</td>\n",
       "      <td>Euro Thousand</td>\n",
       "      <td>1355975.0</td>\n",
       "    </tr>\n",
       "    <tr>\n",
       "      <th>9462</th>\n",
       "      <td>CBM03C14</td>\n",
       "      <td>Debit and Credit Card Volumes - Gross New Spen...</td>\n",
       "      <td>2021M02D01</td>\n",
       "      <td>2021 February 01</td>\n",
       "      <td>10</td>\n",
       "      <td>Daily total</td>\n",
       "      <td>Euro Thousand</td>\n",
       "      <td>188213.0</td>\n",
       "    </tr>\n",
       "    <tr>\n",
       "      <th>9463</th>\n",
       "      <td>CBM03C14</td>\n",
       "      <td>Debit and Credit Card Volumes - Gross New Spen...</td>\n",
       "      <td>2021M02D01</td>\n",
       "      <td>2021 February 01</td>\n",
       "      <td>20</td>\n",
       "      <td>Seven day rolling total</td>\n",
       "      <td>Euro Thousand</td>\n",
       "      <td>1368385.0</td>\n",
       "    </tr>\n",
       "  </tbody>\n",
       "</table>\n",
       "</div>"
      ],
      "text/plain": [
       "     STATISTIC                                    Statistic Label   TLIST(D1)  \\\n",
       "9459  CBM03C14  Debit and Credit Card Volumes - Gross New Spen...  2021M01D30   \n",
       "9460  CBM03C14  Debit and Credit Card Volumes - Gross New Spen...  2021M01D31   \n",
       "9461  CBM03C14  Debit and Credit Card Volumes - Gross New Spen...  2021M01D31   \n",
       "9462  CBM03C14  Debit and Credit Card Volumes - Gross New Spen...  2021M02D01   \n",
       "9463  CBM03C14  Debit and Credit Card Volumes - Gross New Spen...  2021M02D01   \n",
       "\n",
       "                 Daily  C03634V04374 Daily and Seven Day Rolling Totals  \\\n",
       "9459   2021 January 30            20            Seven day rolling total   \n",
       "9460   2021 January 31            10                        Daily total   \n",
       "9461   2021 January 31            20            Seven day rolling total   \n",
       "9462  2021 February 01            10                        Daily total   \n",
       "9463  2021 February 01            20            Seven day rolling total   \n",
       "\n",
       "               UNIT      VALUE  \n",
       "9459  Euro Thousand  1339817.0  \n",
       "9460  Euro Thousand   126365.0  \n",
       "9461  Euro Thousand  1355975.0  \n",
       "9462  Euro Thousand   188213.0  \n",
       "9463  Euro Thousand  1368385.0  "
      ]
     },
     "execution_count": 3,
     "metadata": {},
     "output_type": "execute_result"
    }
   ],
   "source": [
    "# Check the last rows\n",
    "df3.tail()"
   ]
  },
  {
   "cell_type": "code",
   "execution_count": 4,
   "id": "6a4b9947-da35-4642-b6b6-e101a3cb4977",
   "metadata": {},
   "outputs": [
    {
     "name": "stdout",
     "output_type": "stream",
     "text": [
      "<class 'pandas.core.frame.DataFrame'>\n",
      "RangeIndex: 9464 entries, 0 to 9463\n",
      "Data columns (total 8 columns):\n",
      " #   Column                              Non-Null Count  Dtype  \n",
      "---  ------                              --------------  -----  \n",
      " 0   STATISTIC                           9464 non-null   object \n",
      " 1   Statistic Label                     9464 non-null   object \n",
      " 2   TLIST(D1)                           9464 non-null   object \n",
      " 3   Daily                               9464 non-null   object \n",
      " 4   C03634V04374                        9464 non-null   int64  \n",
      " 5   Daily and Seven Day Rolling Totals  9464 non-null   object \n",
      " 6   UNIT                                9464 non-null   object \n",
      " 7   VALUE                               9380 non-null   float64\n",
      "dtypes: float64(1), int64(1), object(6)\n",
      "memory usage: 591.6+ KB\n"
     ]
    }
   ],
   "source": [
    "# A general information of the dataset\n",
    "df3.info()"
   ]
  },
  {
   "cell_type": "code",
   "execution_count": 5,
   "id": "ebe6c94b-d5f6-42b7-855d-e0f8961f32f5",
   "metadata": {},
   "outputs": [
    {
     "data": {
      "text/plain": [
       "array(['CBM03C01', 'CBM03C02', 'CBM03C03', 'CBM03C04', 'CBM03C05',\n",
       "       'CBM03C06', 'CBM03C07', 'CBM03C08', 'CBM03C09', 'CBM03C10',\n",
       "       'CBM03C11', 'CBM03C12', 'CBM03C13', 'CBM03C14'], dtype=object)"
      ]
     },
     "execution_count": 5,
     "metadata": {},
     "output_type": "execute_result"
    }
   ],
   "source": [
    "# Identify the values for ==> STATISTIC\n",
    "df3[\"STATISTIC\"].unique()"
   ]
  },
  {
   "cell_type": "code",
   "execution_count": 6,
   "id": "49f345b3-75ec-49af-8b4b-a31171f519f7",
   "metadata": {},
   "outputs": [
    {
     "data": {
      "text/plain": [
       "array(['Debit Card Transactions - Total',\n",
       "       'Debit Card Transactions - ATM Withdrawals',\n",
       "       'Debit Card Transactions - Point of Sale',\n",
       "       'Debit Card Volumes - Gross New Spending',\n",
       "       'Debit Card Volumes - ATM Withdrawals',\n",
       "       'Debit Card Volumes - Point of Sale',\n",
       "       'Credit Card Transactions - Total on All Cards',\n",
       "       'Credit Card Transactions - Personal Cards',\n",
       "       'Credit Card Transactions - Business Cards',\n",
       "       'Credit Card Volumes - Gross New Spending on All Cards',\n",
       "       'Credit Card Volumes - Personal Cards',\n",
       "       'Credit Card Volumes - Business Cards',\n",
       "       'Debit and Credit Card Transactions - Total on All Cards',\n",
       "       'Debit and Credit Card Volumes - Gross New Spending on All Cards'],\n",
       "      dtype=object)"
      ]
     },
     "execution_count": 6,
     "metadata": {},
     "output_type": "execute_result"
    }
   ],
   "source": [
    "# Identify the values for ==> Statistic Label\n",
    "df3[\"Statistic Label\"].unique()"
   ]
  },
  {
   "cell_type": "code",
   "execution_count": 7,
   "id": "25a04a39-9331-43b4-aa5d-33552edf54d1",
   "metadata": {},
   "outputs": [
    {
     "data": {
      "text/plain": [
       "array([10, 20], dtype=int64)"
      ]
     },
     "execution_count": 7,
     "metadata": {},
     "output_type": "execute_result"
    }
   ],
   "source": [
    "# Identify the values for ==> C03634V04374\n",
    "df3[\"C03634V04374\"].unique()"
   ]
  },
  {
   "cell_type": "code",
   "execution_count": 8,
   "id": "c9b88303-67ce-4392-b26b-8bc239cbabd6",
   "metadata": {},
   "outputs": [
    {
     "data": {
      "text/plain": [
       "array(['Number', 'Euro Thousand'], dtype=object)"
      ]
     },
     "execution_count": 8,
     "metadata": {},
     "output_type": "execute_result"
    }
   ],
   "source": [
    "# Identify the values for ==> UNIT\n",
    "df3[\"UNIT\"].unique()"
   ]
  },
  {
   "cell_type": "markdown",
   "id": "dd9fbd30-f99f-454c-b959-76ad78b5e5e5",
   "metadata": {},
   "source": [
    "### Comments \n",
    "-  Checking unique values helps to get a better understanding of the features "
   ]
  },
  {
   "cell_type": "code",
   "execution_count": 9,
   "id": "fb681d08-c297-4537-b988-85a837db8962",
   "metadata": {},
   "outputs": [
    {
     "data": {
      "text/html": [
       "<div>\n",
       "<style scoped>\n",
       "    .dataframe tbody tr th:only-of-type {\n",
       "        vertical-align: middle;\n",
       "    }\n",
       "\n",
       "    .dataframe tbody tr th {\n",
       "        vertical-align: top;\n",
       "    }\n",
       "\n",
       "    .dataframe thead th {\n",
       "        text-align: right;\n",
       "    }\n",
       "</style>\n",
       "<table border=\"1\" class=\"dataframe\">\n",
       "  <thead>\n",
       "    <tr style=\"text-align: right;\">\n",
       "      <th></th>\n",
       "      <th>VALUE</th>\n",
       "      <th>STATISTIC</th>\n",
       "      <th>Statistic Label</th>\n",
       "      <th>TLIST(D1)</th>\n",
       "      <th>Daily</th>\n",
       "      <th>C03634V04374</th>\n",
       "      <th>Daily and Seven Day Rolling Totals</th>\n",
       "      <th>UNIT</th>\n",
       "    </tr>\n",
       "  </thead>\n",
       "  <tbody>\n",
       "    <tr>\n",
       "      <th>Total</th>\n",
       "      <td>84.000000</td>\n",
       "      <td>0.0</td>\n",
       "      <td>0.0</td>\n",
       "      <td>0.0</td>\n",
       "      <td>0.0</td>\n",
       "      <td>0.0</td>\n",
       "      <td>0.0</td>\n",
       "      <td>0.0</td>\n",
       "    </tr>\n",
       "    <tr>\n",
       "      <th>Percent</th>\n",
       "      <td>0.887574</td>\n",
       "      <td>0.0</td>\n",
       "      <td>0.0</td>\n",
       "      <td>0.0</td>\n",
       "      <td>0.0</td>\n",
       "      <td>0.0</td>\n",
       "      <td>0.0</td>\n",
       "      <td>0.0</td>\n",
       "    </tr>\n",
       "  </tbody>\n",
       "</table>\n",
       "</div>"
      ],
      "text/plain": [
       "             VALUE  STATISTIC  Statistic Label  TLIST(D1)  Daily  \\\n",
       "Total    84.000000        0.0              0.0        0.0    0.0   \n",
       "Percent   0.887574        0.0              0.0        0.0    0.0   \n",
       "\n",
       "         C03634V04374  Daily and Seven Day Rolling Totals  UNIT  \n",
       "Total             0.0                                 0.0   0.0  \n",
       "Percent           0.0                                 0.0   0.0  "
      ]
     },
     "execution_count": 9,
     "metadata": {},
     "output_type": "execute_result"
    }
   ],
   "source": [
    "# check for missing values\n",
    "total = df3.isnull().sum().sort_values(ascending = False)\n",
    "percent = (df3.isnull().sum()/df3.isnull().count()*100).sort_values(ascending = False)\n",
    "pd.concat([total, percent], axis=1, keys=['Total', 'Percent']).transpose()"
   ]
  },
  {
   "cell_type": "markdown",
   "id": "30a8a067-7dbf-48d7-83af-2ba2fc2df6c6",
   "metadata": {},
   "source": [
    "### Comments \n",
    "- Value contains 0.88% of null values, which is a very small percentage, and since we can't fill it with anything else, it's going to be dropped!"
   ]
  },
  {
   "cell_type": "code",
   "execution_count": 10,
   "id": "f4285e93-662e-44c3-9a1b-dd79eef56b31",
   "metadata": {},
   "outputs": [
    {
     "data": {
      "text/html": [
       "<div>\n",
       "<style scoped>\n",
       "    .dataframe tbody tr th:only-of-type {\n",
       "        vertical-align: middle;\n",
       "    }\n",
       "\n",
       "    .dataframe tbody tr th {\n",
       "        vertical-align: top;\n",
       "    }\n",
       "\n",
       "    .dataframe thead th {\n",
       "        text-align: right;\n",
       "    }\n",
       "</style>\n",
       "<table border=\"1\" class=\"dataframe\">\n",
       "  <thead>\n",
       "    <tr style=\"text-align: right;\">\n",
       "      <th></th>\n",
       "      <th>STATISTIC</th>\n",
       "      <th>Statistic Label</th>\n",
       "      <th>TLIST(D1)</th>\n",
       "      <th>Daily</th>\n",
       "      <th>C03634V04374</th>\n",
       "      <th>Daily and Seven Day Rolling Totals</th>\n",
       "      <th>UNIT</th>\n",
       "      <th>VALUE</th>\n",
       "    </tr>\n",
       "  </thead>\n",
       "  <tbody>\n",
       "    <tr>\n",
       "      <th>1</th>\n",
       "      <td>CBM03C01</td>\n",
       "      <td>Debit Card Transactions - Total</td>\n",
       "      <td>2020M03D01</td>\n",
       "      <td>2020 March 01</td>\n",
       "      <td>20</td>\n",
       "      <td>Seven day rolling total</td>\n",
       "      <td>Number</td>\n",
       "      <td>NaN</td>\n",
       "    </tr>\n",
       "    <tr>\n",
       "      <th>3</th>\n",
       "      <td>CBM03C01</td>\n",
       "      <td>Debit Card Transactions - Total</td>\n",
       "      <td>2020M03D02</td>\n",
       "      <td>2020 March 02</td>\n",
       "      <td>20</td>\n",
       "      <td>Seven day rolling total</td>\n",
       "      <td>Number</td>\n",
       "      <td>NaN</td>\n",
       "    </tr>\n",
       "    <tr>\n",
       "      <th>5</th>\n",
       "      <td>CBM03C01</td>\n",
       "      <td>Debit Card Transactions - Total</td>\n",
       "      <td>2020M03D03</td>\n",
       "      <td>2020 March 03</td>\n",
       "      <td>20</td>\n",
       "      <td>Seven day rolling total</td>\n",
       "      <td>Number</td>\n",
       "      <td>NaN</td>\n",
       "    </tr>\n",
       "    <tr>\n",
       "      <th>7</th>\n",
       "      <td>CBM03C01</td>\n",
       "      <td>Debit Card Transactions - Total</td>\n",
       "      <td>2020M03D04</td>\n",
       "      <td>2020 March 04</td>\n",
       "      <td>20</td>\n",
       "      <td>Seven day rolling total</td>\n",
       "      <td>Number</td>\n",
       "      <td>NaN</td>\n",
       "    </tr>\n",
       "    <tr>\n",
       "      <th>9</th>\n",
       "      <td>CBM03C01</td>\n",
       "      <td>Debit Card Transactions - Total</td>\n",
       "      <td>2020M03D05</td>\n",
       "      <td>2020 March 05</td>\n",
       "      <td>20</td>\n",
       "      <td>Seven day rolling total</td>\n",
       "      <td>Number</td>\n",
       "      <td>NaN</td>\n",
       "    </tr>\n",
       "    <tr>\n",
       "      <th>...</th>\n",
       "      <td>...</td>\n",
       "      <td>...</td>\n",
       "      <td>...</td>\n",
       "      <td>...</td>\n",
       "      <td>...</td>\n",
       "      <td>...</td>\n",
       "      <td>...</td>\n",
       "      <td>...</td>\n",
       "    </tr>\n",
       "    <tr>\n",
       "      <th>8791</th>\n",
       "      <td>CBM03C14</td>\n",
       "      <td>Debit and Credit Card Volumes - Gross New Spen...</td>\n",
       "      <td>2020M03D02</td>\n",
       "      <td>2020 March 02</td>\n",
       "      <td>20</td>\n",
       "      <td>Seven day rolling total</td>\n",
       "      <td>Euro Thousand</td>\n",
       "      <td>NaN</td>\n",
       "    </tr>\n",
       "    <tr>\n",
       "      <th>8793</th>\n",
       "      <td>CBM03C14</td>\n",
       "      <td>Debit and Credit Card Volumes - Gross New Spen...</td>\n",
       "      <td>2020M03D03</td>\n",
       "      <td>2020 March 03</td>\n",
       "      <td>20</td>\n",
       "      <td>Seven day rolling total</td>\n",
       "      <td>Euro Thousand</td>\n",
       "      <td>NaN</td>\n",
       "    </tr>\n",
       "    <tr>\n",
       "      <th>8795</th>\n",
       "      <td>CBM03C14</td>\n",
       "      <td>Debit and Credit Card Volumes - Gross New Spen...</td>\n",
       "      <td>2020M03D04</td>\n",
       "      <td>2020 March 04</td>\n",
       "      <td>20</td>\n",
       "      <td>Seven day rolling total</td>\n",
       "      <td>Euro Thousand</td>\n",
       "      <td>NaN</td>\n",
       "    </tr>\n",
       "    <tr>\n",
       "      <th>8797</th>\n",
       "      <td>CBM03C14</td>\n",
       "      <td>Debit and Credit Card Volumes - Gross New Spen...</td>\n",
       "      <td>2020M03D05</td>\n",
       "      <td>2020 March 05</td>\n",
       "      <td>20</td>\n",
       "      <td>Seven day rolling total</td>\n",
       "      <td>Euro Thousand</td>\n",
       "      <td>NaN</td>\n",
       "    </tr>\n",
       "    <tr>\n",
       "      <th>8799</th>\n",
       "      <td>CBM03C14</td>\n",
       "      <td>Debit and Credit Card Volumes - Gross New Spen...</td>\n",
       "      <td>2020M03D06</td>\n",
       "      <td>2020 March 06</td>\n",
       "      <td>20</td>\n",
       "      <td>Seven day rolling total</td>\n",
       "      <td>Euro Thousand</td>\n",
       "      <td>NaN</td>\n",
       "    </tr>\n",
       "  </tbody>\n",
       "</table>\n",
       "<p>84 rows × 8 columns</p>\n",
       "</div>"
      ],
      "text/plain": [
       "     STATISTIC                                    Statistic Label   TLIST(D1)  \\\n",
       "1     CBM03C01                    Debit Card Transactions - Total  2020M03D01   \n",
       "3     CBM03C01                    Debit Card Transactions - Total  2020M03D02   \n",
       "5     CBM03C01                    Debit Card Transactions - Total  2020M03D03   \n",
       "7     CBM03C01                    Debit Card Transactions - Total  2020M03D04   \n",
       "9     CBM03C01                    Debit Card Transactions - Total  2020M03D05   \n",
       "...        ...                                                ...         ...   \n",
       "8791  CBM03C14  Debit and Credit Card Volumes - Gross New Spen...  2020M03D02   \n",
       "8793  CBM03C14  Debit and Credit Card Volumes - Gross New Spen...  2020M03D03   \n",
       "8795  CBM03C14  Debit and Credit Card Volumes - Gross New Spen...  2020M03D04   \n",
       "8797  CBM03C14  Debit and Credit Card Volumes - Gross New Spen...  2020M03D05   \n",
       "8799  CBM03C14  Debit and Credit Card Volumes - Gross New Spen...  2020M03D06   \n",
       "\n",
       "              Daily  C03634V04374 Daily and Seven Day Rolling Totals  \\\n",
       "1     2020 March 01            20            Seven day rolling total   \n",
       "3     2020 March 02            20            Seven day rolling total   \n",
       "5     2020 March 03            20            Seven day rolling total   \n",
       "7     2020 March 04            20            Seven day rolling total   \n",
       "9     2020 March 05            20            Seven day rolling total   \n",
       "...             ...           ...                                ...   \n",
       "8791  2020 March 02            20            Seven day rolling total   \n",
       "8793  2020 March 03            20            Seven day rolling total   \n",
       "8795  2020 March 04            20            Seven day rolling total   \n",
       "8797  2020 March 05            20            Seven day rolling total   \n",
       "8799  2020 March 06            20            Seven day rolling total   \n",
       "\n",
       "               UNIT  VALUE  \n",
       "1            Number    NaN  \n",
       "3            Number    NaN  \n",
       "5            Number    NaN  \n",
       "7            Number    NaN  \n",
       "9            Number    NaN  \n",
       "...             ...    ...  \n",
       "8791  Euro Thousand    NaN  \n",
       "8793  Euro Thousand    NaN  \n",
       "8795  Euro Thousand    NaN  \n",
       "8797  Euro Thousand    NaN  \n",
       "8799  Euro Thousand    NaN  \n",
       "\n",
       "[84 rows x 8 columns]"
      ]
     },
     "execution_count": 10,
     "metadata": {},
     "output_type": "execute_result"
    }
   ],
   "source": [
    "# Show null rows\n",
    "df3[df3[\"VALUE\"].isna()]"
   ]
  },
  {
   "cell_type": "markdown",
   "id": "f7746add-d25d-44ac-b3c9-721e2353783a",
   "metadata": {},
   "source": [
    "### Comments\n",
    "- Based on the previous analysis we can identify that Value (amount) is the feature most relevant for fraud detection for this reason we will proceed to drop the rows with null values, since they are just 84 rows which represent the 0.88% of the total amount in the dataset, as seen previously."
   ]
  },
  {
   "cell_type": "code",
   "execution_count": 11,
   "id": "8b2e460a-b427-4788-83a2-2fabfd3270e6",
   "metadata": {},
   "outputs": [
    {
     "data": {
      "text/plain": [
       "STATISTIC                             0\n",
       "Statistic Label                       0\n",
       "TLIST(D1)                             0\n",
       "Daily                                 0\n",
       "C03634V04374                          0\n",
       "Daily and Seven Day Rolling Totals    0\n",
       "UNIT                                  0\n",
       "VALUE                                 0\n",
       "dtype: int64"
      ]
     },
     "execution_count": 11,
     "metadata": {},
     "output_type": "execute_result"
    }
   ],
   "source": [
    "# Since the fact VALUE contains especific values,and we can not fill the Nun Values with any other, we drop tyhe rows. \n",
    "df3.dropna(subset=[\"VALUE\"], inplace=True)  \n",
    "# Checking updates for Nun Values\n",
    "df3.isnull().sum()"
   ]
  },
  {
   "cell_type": "markdown",
   "id": "b99b3b66-7e3d-4840-930e-07685678539c",
   "metadata": {},
   "source": [
    "# Label Encoding \n",
    "- This apprach help us to assing numerical values, to features that are categorical originally. "
   ]
  },
  {
   "cell_type": "code",
   "execution_count": 12,
   "id": "ae2c3a65-9f86-441a-9500-49b49dccb86c",
   "metadata": {
    "tags": []
   },
   "outputs": [],
   "source": [
    "#  Apply label encoding to: UNIT and Statistic, which are features we want to preserve.\n",
    "le = LabelEncoder()\n",
    "df3['UNIT'] = le.fit_transform(df3['UNIT'])\n",
    "df3['STATISTIC'] = le.fit_transform(df3['STATISTIC'])"
   ]
  },
  {
   "cell_type": "code",
   "execution_count": 13,
   "id": "38fc42ca-6b4b-43ed-9376-410e4ca7a753",
   "metadata": {},
   "outputs": [
    {
     "name": "stdout",
     "output_type": "stream",
     "text": [
      "<class 'pandas.core.frame.DataFrame'>\n",
      "Int64Index: 9380 entries, 0 to 9463\n",
      "Data columns (total 8 columns):\n",
      " #   Column                              Non-Null Count  Dtype  \n",
      "---  ------                              --------------  -----  \n",
      " 0   STATISTIC                           9380 non-null   int32  \n",
      " 1   Statistic Label                     9380 non-null   object \n",
      " 2   TLIST(D1)                           9380 non-null   object \n",
      " 3   Daily                               9380 non-null   object \n",
      " 4   C03634V04374                        9380 non-null   int64  \n",
      " 5   Daily and Seven Day Rolling Totals  9380 non-null   object \n",
      " 6   UNIT                                9380 non-null   int32  \n",
      " 7   VALUE                               9380 non-null   float64\n",
      "dtypes: float64(1), int32(2), int64(1), object(4)\n",
      "memory usage: 586.2+ KB\n"
     ]
    }
   ],
   "source": [
    "# Let's update changes \n",
    "df3.info()"
   ]
  },
  {
   "cell_type": "markdown",
   "id": "c2c01e2b-46d2-447f-bfb7-16e62d9b46e6",
   "metadata": {},
   "source": [
    "### DATA DESCRIPTION\n",
    "- STATISTIC: Represents the Statistic label of the dataset.\n",
    "- Statistic Label: Contains the infoirmation of the transaction made with the Debit Card\n",
    "- TLIST(D1): Conatin a dictionary for Daily (Date features)\n",
    "- Daily: Shows the date of the transaction\n",
    "- C03634V04374: Contains values 10 or 20\n",
    "- Daily and Seven Day Rolling Totals: Contains categorical values, shows if the transaction is daily or Seven Day Rolling Totals\n",
    "- UNIT: 'Number', 'Euro Thousand' are the only units.\n",
    "- VALUE: The amount of the transaction made."
   ]
  },
  {
   "cell_type": "code",
   "execution_count": 14,
   "id": "8d1f41a1-8ac0-4d93-9ca4-0fc5ef6f9154",
   "metadata": {},
   "outputs": [
    {
     "name": "stdout",
     "output_type": "stream",
     "text": [
      "<class 'pandas.core.frame.DataFrame'>\n",
      "Int64Index: 9380 entries, 0 to 9463\n",
      "Data columns (total 5 columns):\n",
      " #   Column        Non-Null Count  Dtype  \n",
      "---  ------        --------------  -----  \n",
      " 0   STATISTIC     9380 non-null   int32  \n",
      " 1   Daily         9380 non-null   object \n",
      " 2   C03634V04374  9380 non-null   int64  \n",
      " 3   UNIT          9380 non-null   int32  \n",
      " 4   VALUE         9380 non-null   float64\n",
      "dtypes: float64(1), int32(2), int64(1), object(1)\n",
      "memory usage: 366.4+ KB\n"
     ]
    }
   ],
   "source": [
    "# Drop irrelevant columns \n",
    "# Drop the columns that contain duplicate information, or provide just the dictionary of another column. \n",
    "df3 = df3.drop(columns=['Statistic Label','TLIST(D1)','Daily and Seven Day Rolling Totals'])\n",
    "# Let's update changes \n",
    "df3.info()"
   ]
  },
  {
   "cell_type": "code",
   "execution_count": 15,
   "id": "2af31309-f54f-416a-9e0d-2423d944f1ea",
   "metadata": {},
   "outputs": [
    {
     "data": {
      "text/html": [
       "<div>\n",
       "<style scoped>\n",
       "    .dataframe tbody tr th:only-of-type {\n",
       "        vertical-align: middle;\n",
       "    }\n",
       "\n",
       "    .dataframe tbody tr th {\n",
       "        vertical-align: top;\n",
       "    }\n",
       "\n",
       "    .dataframe thead th {\n",
       "        text-align: right;\n",
       "    }\n",
       "</style>\n",
       "<table border=\"1\" class=\"dataframe\">\n",
       "  <thead>\n",
       "    <tr style=\"text-align: right;\">\n",
       "      <th></th>\n",
       "      <th>STATISTIC</th>\n",
       "      <th>Daily</th>\n",
       "      <th>C03634V04374</th>\n",
       "      <th>UNIT</th>\n",
       "      <th>VALUE</th>\n",
       "    </tr>\n",
       "  </thead>\n",
       "  <tbody>\n",
       "    <tr>\n",
       "      <th>0</th>\n",
       "      <td>0</td>\n",
       "      <td>2020 March 01</td>\n",
       "      <td>10</td>\n",
       "      <td>1</td>\n",
       "      <td>3259740.0</td>\n",
       "    </tr>\n",
       "    <tr>\n",
       "      <th>2</th>\n",
       "      <td>0</td>\n",
       "      <td>2020 March 02</td>\n",
       "      <td>10</td>\n",
       "      <td>1</td>\n",
       "      <td>3245856.0</td>\n",
       "    </tr>\n",
       "    <tr>\n",
       "      <th>4</th>\n",
       "      <td>0</td>\n",
       "      <td>2020 March 03</td>\n",
       "      <td>10</td>\n",
       "      <td>1</td>\n",
       "      <td>3392281.0</td>\n",
       "    </tr>\n",
       "    <tr>\n",
       "      <th>6</th>\n",
       "      <td>0</td>\n",
       "      <td>2020 March 04</td>\n",
       "      <td>10</td>\n",
       "      <td>1</td>\n",
       "      <td>3419662.0</td>\n",
       "    </tr>\n",
       "    <tr>\n",
       "      <th>8</th>\n",
       "      <td>0</td>\n",
       "      <td>2020 March 05</td>\n",
       "      <td>10</td>\n",
       "      <td>1</td>\n",
       "      <td>3860407.0</td>\n",
       "    </tr>\n",
       "  </tbody>\n",
       "</table>\n",
       "</div>"
      ],
      "text/plain": [
       "   STATISTIC          Daily  C03634V04374  UNIT      VALUE\n",
       "0          0  2020 March 01            10     1  3259740.0\n",
       "2          0  2020 March 02            10     1  3245856.0\n",
       "4          0  2020 March 03            10     1  3392281.0\n",
       "6          0  2020 March 04            10     1  3419662.0\n",
       "8          0  2020 March 05            10     1  3860407.0"
      ]
     },
     "execution_count": 15,
     "metadata": {},
     "output_type": "execute_result"
    }
   ],
   "source": [
    "# Update information\n",
    "df3.head()"
   ]
  },
  {
   "cell_type": "code",
   "execution_count": 16,
   "id": "b6d0d463-c9fe-4262-8d58-2190bbfda9aa",
   "metadata": {},
   "outputs": [
    {
     "name": "stdout",
     "output_type": "stream",
     "text": [
      "      STATISTIC  C03634V04374  UNIT      VALUE  year  month  day\n",
      "0             0            10     1  3259740.0  2020      3    1\n",
      "2             0            10     1  3245856.0  2020      3    2\n",
      "4             0            10     1  3392281.0  2020      3    3\n",
      "6             0            10     1  3419662.0  2020      3    4\n",
      "8             0            10     1  3860407.0  2020      3    5\n",
      "...         ...           ...   ...        ...   ...    ...  ...\n",
      "9459         13            20     0  1339817.0  2021      1   30\n",
      "9460         13            10     0   126365.0  2021      1   31\n",
      "9461         13            20     0  1355975.0  2021      1   31\n",
      "9462         13            10     0   188213.0  2021      2    1\n",
      "9463         13            20     0  1368385.0  2021      2    1\n",
      "\n",
      "[9380 rows x 7 columns]\n"
     ]
    }
   ],
   "source": [
    "# Convert the date column to datetime objects\n",
    "df3['Daily'] = pd.to_datetime(df3['Daily'], format=\"%Y %B %d\")\n",
    "\n",
    "# Extract year, month, and day into separate columns\n",
    "df3['year'] = df3['Daily'].dt.year.astype('int64')\n",
    "df3['month'] = df3['Daily'].dt.month.astype('int64')\n",
    "df3['day'] = df3['Daily'].dt.day.astype('int64')\n",
    "\n",
    "# Drop the 'Daily' column\n",
    "df3 = df3.drop(columns=['Daily'])\n",
    "\n",
    "# Display the resulting DataFrame\n",
    "print(df3)"
   ]
  },
  {
   "cell_type": "markdown",
   "id": "512a0bd1-094a-4ea3-8782-46f44b4ea734",
   "metadata": {},
   "source": [
    "### Comments \n",
    "- Based on the previous results, we could see that there could be realtion with just day, month or year. For this reason it is better to explode them to get a better result. "
   ]
  },
  {
   "cell_type": "code",
   "execution_count": 17,
   "id": "65f07653-d78c-4215-b832-80fe211f0f62",
   "metadata": {
    "tags": []
   },
   "outputs": [
    {
     "data": {
      "text/plain": [
       "STATISTIC       int64\n",
       "C03634V04374    int64\n",
       "UNIT            int64\n",
       "VALUE           int64\n",
       "year            int64\n",
       "month           int64\n",
       "day             int64\n",
       "dtype: object"
      ]
     },
     "execution_count": 17,
     "metadata": {},
     "output_type": "execute_result"
    }
   ],
   "source": [
    "# let's convert all data to dtype == int64\n",
    "df3 = df3.astype('int64')\n",
    "df3.dtypes"
   ]
  },
  {
   "cell_type": "code",
   "execution_count": 18,
   "id": "d813f3b4-278a-44c4-a7d2-6c8e944ad2bf",
   "metadata": {},
   "outputs": [
    {
     "data": {
      "text/html": [
       "<div>\n",
       "<style scoped>\n",
       "    .dataframe tbody tr th:only-of-type {\n",
       "        vertical-align: middle;\n",
       "    }\n",
       "\n",
       "    .dataframe tbody tr th {\n",
       "        vertical-align: top;\n",
       "    }\n",
       "\n",
       "    .dataframe thead th {\n",
       "        text-align: right;\n",
       "    }\n",
       "</style>\n",
       "<table border=\"1\" class=\"dataframe\">\n",
       "  <thead>\n",
       "    <tr style=\"text-align: right;\">\n",
       "      <th></th>\n",
       "      <th>STATISTIC</th>\n",
       "      <th>C03634V04374</th>\n",
       "      <th>UNIT</th>\n",
       "      <th>VALUE</th>\n",
       "      <th>year</th>\n",
       "      <th>month</th>\n",
       "      <th>day</th>\n",
       "    </tr>\n",
       "  </thead>\n",
       "  <tbody>\n",
       "    <tr>\n",
       "      <th>count</th>\n",
       "      <td>9380.000000</td>\n",
       "      <td>9380.000000</td>\n",
       "      <td>9380.000000</td>\n",
       "      <td>9.380000e+03</td>\n",
       "      <td>9380.000000</td>\n",
       "      <td>9380.000000</td>\n",
       "      <td>9380.00000</td>\n",
       "    </tr>\n",
       "    <tr>\n",
       "      <th>mean</th>\n",
       "      <td>6.500000</td>\n",
       "      <td>14.955224</td>\n",
       "      <td>0.500000</td>\n",
       "      <td>2.690275e+06</td>\n",
       "      <td>2020.095522</td>\n",
       "      <td>6.922388</td>\n",
       "      <td>15.88806</td>\n",
       "    </tr>\n",
       "    <tr>\n",
       "      <th>std</th>\n",
       "      <td>4.031344</td>\n",
       "      <td>5.000066</td>\n",
       "      <td>0.500027</td>\n",
       "      <td>6.602991e+06</td>\n",
       "      <td>0.293951</td>\n",
       "      <td>3.321740</td>\n",
       "      <td>8.83110</td>\n",
       "    </tr>\n",
       "    <tr>\n",
       "      <th>min</th>\n",
       "      <td>0.000000</td>\n",
       "      <td>10.000000</td>\n",
       "      <td>0.000000</td>\n",
       "      <td>0.000000e+00</td>\n",
       "      <td>2020.000000</td>\n",
       "      <td>1.000000</td>\n",
       "      <td>1.00000</td>\n",
       "    </tr>\n",
       "    <tr>\n",
       "      <th>25%</th>\n",
       "      <td>3.000000</td>\n",
       "      <td>10.000000</td>\n",
       "      <td>0.000000</td>\n",
       "      <td>3.017650e+04</td>\n",
       "      <td>2020.000000</td>\n",
       "      <td>4.000000</td>\n",
       "      <td>8.00000</td>\n",
       "    </tr>\n",
       "    <tr>\n",
       "      <th>50%</th>\n",
       "      <td>6.500000</td>\n",
       "      <td>10.000000</td>\n",
       "      <td>0.500000</td>\n",
       "      <td>2.114115e+05</td>\n",
       "      <td>2020.000000</td>\n",
       "      <td>7.000000</td>\n",
       "      <td>16.00000</td>\n",
       "    </tr>\n",
       "    <tr>\n",
       "      <th>75%</th>\n",
       "      <td>10.000000</td>\n",
       "      <td>20.000000</td>\n",
       "      <td>1.000000</td>\n",
       "      <td>1.517516e+06</td>\n",
       "      <td>2020.000000</td>\n",
       "      <td>10.000000</td>\n",
       "      <td>24.00000</td>\n",
       "    </tr>\n",
       "    <tr>\n",
       "      <th>max</th>\n",
       "      <td>13.000000</td>\n",
       "      <td>20.000000</td>\n",
       "      <td>1.000000</td>\n",
       "      <td>3.050376e+07</td>\n",
       "      <td>2021.000000</td>\n",
       "      <td>12.000000</td>\n",
       "      <td>31.00000</td>\n",
       "    </tr>\n",
       "  </tbody>\n",
       "</table>\n",
       "</div>"
      ],
      "text/plain": [
       "         STATISTIC  C03634V04374         UNIT         VALUE         year  \\\n",
       "count  9380.000000   9380.000000  9380.000000  9.380000e+03  9380.000000   \n",
       "mean      6.500000     14.955224     0.500000  2.690275e+06  2020.095522   \n",
       "std       4.031344      5.000066     0.500027  6.602991e+06     0.293951   \n",
       "min       0.000000     10.000000     0.000000  0.000000e+00  2020.000000   \n",
       "25%       3.000000     10.000000     0.000000  3.017650e+04  2020.000000   \n",
       "50%       6.500000     10.000000     0.500000  2.114115e+05  2020.000000   \n",
       "75%      10.000000     20.000000     1.000000  1.517516e+06  2020.000000   \n",
       "max      13.000000     20.000000     1.000000  3.050376e+07  2021.000000   \n",
       "\n",
       "             month         day  \n",
       "count  9380.000000  9380.00000  \n",
       "mean      6.922388    15.88806  \n",
       "std       3.321740     8.83110  \n",
       "min       1.000000     1.00000  \n",
       "25%       4.000000     8.00000  \n",
       "50%       7.000000    16.00000  \n",
       "75%      10.000000    24.00000  \n",
       "max      12.000000    31.00000  "
      ]
     },
     "execution_count": 18,
     "metadata": {},
     "output_type": "execute_result"
    }
   ],
   "source": [
    "# Description of the features\n",
    "df3.describe()"
   ]
  },
  {
   "cell_type": "code",
   "execution_count": 19,
   "id": "f05cdaea-0e22-4793-b701-2953d0fff864",
   "metadata": {},
   "outputs": [
    {
     "data": {
      "text/html": [
       "<div>\n",
       "<style scoped>\n",
       "    .dataframe tbody tr th:only-of-type {\n",
       "        vertical-align: middle;\n",
       "    }\n",
       "\n",
       "    .dataframe tbody tr th {\n",
       "        vertical-align: top;\n",
       "    }\n",
       "\n",
       "    .dataframe thead th {\n",
       "        text-align: right;\n",
       "    }\n",
       "</style>\n",
       "<table border=\"1\" class=\"dataframe\">\n",
       "  <thead>\n",
       "    <tr style=\"text-align: right;\">\n",
       "      <th></th>\n",
       "      <th>STATISTIC</th>\n",
       "      <th>C03634V04374</th>\n",
       "      <th>VALUE</th>\n",
       "      <th>year</th>\n",
       "      <th>month</th>\n",
       "      <th>day</th>\n",
       "    </tr>\n",
       "    <tr>\n",
       "      <th>UNIT</th>\n",
       "      <th></th>\n",
       "      <th></th>\n",
       "      <th></th>\n",
       "      <th></th>\n",
       "      <th></th>\n",
       "      <th></th>\n",
       "    </tr>\n",
       "  </thead>\n",
       "  <tbody>\n",
       "    <tr>\n",
       "      <th>0</th>\n",
       "      <td>7.857143</td>\n",
       "      <td>14.955224</td>\n",
       "      <td>3.272676e+05</td>\n",
       "      <td>2020.095522</td>\n",
       "      <td>6.922388</td>\n",
       "      <td>15.88806</td>\n",
       "    </tr>\n",
       "    <tr>\n",
       "      <th>1</th>\n",
       "      <td>5.142857</td>\n",
       "      <td>14.955224</td>\n",
       "      <td>5.053281e+06</td>\n",
       "      <td>2020.095522</td>\n",
       "      <td>6.922388</td>\n",
       "      <td>15.88806</td>\n",
       "    </tr>\n",
       "  </tbody>\n",
       "</table>\n",
       "</div>"
      ],
      "text/plain": [
       "      STATISTIC  C03634V04374         VALUE         year     month       day\n",
       "UNIT                                                                        \n",
       "0      7.857143     14.955224  3.272676e+05  2020.095522  6.922388  15.88806\n",
       "1      5.142857     14.955224  5.053281e+06  2020.095522  6.922388  15.88806"
      ]
     },
     "execution_count": 19,
     "metadata": {},
     "output_type": "execute_result"
    }
   ],
   "source": [
    "# Lets group the numerical values related with the feature: UNIT\n",
    "df3.groupby(\"UNIT\").mean()"
   ]
  },
  {
   "cell_type": "code",
   "execution_count": 20,
   "id": "0afb5b04-93ce-4463-9f86-5af48fbf02d6",
   "metadata": {},
   "outputs": [
    {
     "data": {
      "text/html": [
       "<div>\n",
       "<style scoped>\n",
       "    .dataframe tbody tr th:only-of-type {\n",
       "        vertical-align: middle;\n",
       "    }\n",
       "\n",
       "    .dataframe tbody tr th {\n",
       "        vertical-align: top;\n",
       "    }\n",
       "\n",
       "    .dataframe thead th {\n",
       "        text-align: right;\n",
       "    }\n",
       "</style>\n",
       "<table border=\"1\" class=\"dataframe\">\n",
       "  <thead>\n",
       "    <tr style=\"text-align: right;\">\n",
       "      <th></th>\n",
       "      <th>C03634V04374</th>\n",
       "      <th>UNIT</th>\n",
       "      <th>VALUE</th>\n",
       "      <th>year</th>\n",
       "      <th>month</th>\n",
       "      <th>day</th>\n",
       "    </tr>\n",
       "    <tr>\n",
       "      <th>STATISTIC</th>\n",
       "      <th></th>\n",
       "      <th></th>\n",
       "      <th></th>\n",
       "      <th></th>\n",
       "      <th></th>\n",
       "      <th></th>\n",
       "    </tr>\n",
       "  </thead>\n",
       "  <tbody>\n",
       "    <tr>\n",
       "      <th>0</th>\n",
       "      <td>14.955224</td>\n",
       "      <td>1.0</td>\n",
       "      <td>1.063929e+07</td>\n",
       "      <td>2020.095522</td>\n",
       "      <td>6.922388</td>\n",
       "      <td>15.88806</td>\n",
       "    </tr>\n",
       "    <tr>\n",
       "      <th>1</th>\n",
       "      <td>14.955224</td>\n",
       "      <td>1.0</td>\n",
       "      <td>6.925492e+05</td>\n",
       "      <td>2020.095522</td>\n",
       "      <td>6.922388</td>\n",
       "      <td>15.88806</td>\n",
       "    </tr>\n",
       "    <tr>\n",
       "      <th>2</th>\n",
       "      <td>14.955224</td>\n",
       "      <td>1.0</td>\n",
       "      <td>9.946737e+06</td>\n",
       "      <td>2020.095522</td>\n",
       "      <td>6.922388</td>\n",
       "      <td>15.88806</td>\n",
       "    </tr>\n",
       "    <tr>\n",
       "      <th>3</th>\n",
       "      <td>14.955224</td>\n",
       "      <td>0.0</td>\n",
       "      <td>6.698951e+05</td>\n",
       "      <td>2020.095522</td>\n",
       "      <td>6.922388</td>\n",
       "      <td>15.88806</td>\n",
       "    </tr>\n",
       "    <tr>\n",
       "      <th>4</th>\n",
       "      <td>14.955224</td>\n",
       "      <td>0.0</td>\n",
       "      <td>1.354650e+05</td>\n",
       "      <td>2020.095522</td>\n",
       "      <td>6.922388</td>\n",
       "      <td>15.88806</td>\n",
       "    </tr>\n",
       "    <tr>\n",
       "      <th>5</th>\n",
       "      <td>14.955224</td>\n",
       "      <td>0.0</td>\n",
       "      <td>5.344301e+05</td>\n",
       "      <td>2020.095522</td>\n",
       "      <td>6.922388</td>\n",
       "      <td>15.88806</td>\n",
       "    </tr>\n",
       "    <tr>\n",
       "      <th>6</th>\n",
       "      <td>14.955224</td>\n",
       "      <td>1.0</td>\n",
       "      <td>1.151704e+06</td>\n",
       "      <td>2020.095522</td>\n",
       "      <td>6.922388</td>\n",
       "      <td>15.88806</td>\n",
       "    </tr>\n",
       "    <tr>\n",
       "      <th>7</th>\n",
       "      <td>14.955224</td>\n",
       "      <td>1.0</td>\n",
       "      <td>1.043881e+06</td>\n",
       "      <td>2020.095522</td>\n",
       "      <td>6.922388</td>\n",
       "      <td>15.88806</td>\n",
       "    </tr>\n",
       "    <tr>\n",
       "      <th>8</th>\n",
       "      <td>14.955224</td>\n",
       "      <td>1.0</td>\n",
       "      <td>1.078229e+05</td>\n",
       "      <td>2020.095522</td>\n",
       "      <td>6.922388</td>\n",
       "      <td>15.88806</td>\n",
       "    </tr>\n",
       "    <tr>\n",
       "      <th>9</th>\n",
       "      <td>14.955224</td>\n",
       "      <td>0.0</td>\n",
       "      <td>1.013105e+05</td>\n",
       "      <td>2020.095522</td>\n",
       "      <td>6.922388</td>\n",
       "      <td>15.88806</td>\n",
       "    </tr>\n",
       "    <tr>\n",
       "      <th>10</th>\n",
       "      <td>14.955224</td>\n",
       "      <td>0.0</td>\n",
       "      <td>6.516814e+04</td>\n",
       "      <td>2020.095522</td>\n",
       "      <td>6.922388</td>\n",
       "      <td>15.88806</td>\n",
       "    </tr>\n",
       "    <tr>\n",
       "      <th>11</th>\n",
       "      <td>14.955224</td>\n",
       "      <td>0.0</td>\n",
       "      <td>1.339868e+04</td>\n",
       "      <td>2020.095522</td>\n",
       "      <td>6.922388</td>\n",
       "      <td>15.88806</td>\n",
       "    </tr>\n",
       "    <tr>\n",
       "      <th>12</th>\n",
       "      <td>14.955224</td>\n",
       "      <td>1.0</td>\n",
       "      <td>1.179099e+07</td>\n",
       "      <td>2020.095522</td>\n",
       "      <td>6.922388</td>\n",
       "      <td>15.88806</td>\n",
       "    </tr>\n",
       "    <tr>\n",
       "      <th>13</th>\n",
       "      <td>14.955224</td>\n",
       "      <td>0.0</td>\n",
       "      <td>7.712055e+05</td>\n",
       "      <td>2020.095522</td>\n",
       "      <td>6.922388</td>\n",
       "      <td>15.88806</td>\n",
       "    </tr>\n",
       "  </tbody>\n",
       "</table>\n",
       "</div>"
      ],
      "text/plain": [
       "           C03634V04374  UNIT         VALUE         year     month       day\n",
       "STATISTIC                                                                   \n",
       "0             14.955224   1.0  1.063929e+07  2020.095522  6.922388  15.88806\n",
       "1             14.955224   1.0  6.925492e+05  2020.095522  6.922388  15.88806\n",
       "2             14.955224   1.0  9.946737e+06  2020.095522  6.922388  15.88806\n",
       "3             14.955224   0.0  6.698951e+05  2020.095522  6.922388  15.88806\n",
       "4             14.955224   0.0  1.354650e+05  2020.095522  6.922388  15.88806\n",
       "5             14.955224   0.0  5.344301e+05  2020.095522  6.922388  15.88806\n",
       "6             14.955224   1.0  1.151704e+06  2020.095522  6.922388  15.88806\n",
       "7             14.955224   1.0  1.043881e+06  2020.095522  6.922388  15.88806\n",
       "8             14.955224   1.0  1.078229e+05  2020.095522  6.922388  15.88806\n",
       "9             14.955224   0.0  1.013105e+05  2020.095522  6.922388  15.88806\n",
       "10            14.955224   0.0  6.516814e+04  2020.095522  6.922388  15.88806\n",
       "11            14.955224   0.0  1.339868e+04  2020.095522  6.922388  15.88806\n",
       "12            14.955224   1.0  1.179099e+07  2020.095522  6.922388  15.88806\n",
       "13            14.955224   0.0  7.712055e+05  2020.095522  6.922388  15.88806"
      ]
     },
     "execution_count": 20,
     "metadata": {},
     "output_type": "execute_result"
    }
   ],
   "source": [
    "# Lets group the numerical values related with the feature: STATISTIC\n",
    "df3.groupby(\"STATISTIC\").mean()"
   ]
  },
  {
   "cell_type": "code",
   "execution_count": 21,
   "id": "5c683a4c-d0bb-4cc8-993b-4dee71dc76bc",
   "metadata": {},
   "outputs": [
    {
     "data": {
      "text/html": [
       "<div>\n",
       "<style scoped>\n",
       "    .dataframe tbody tr th:only-of-type {\n",
       "        vertical-align: middle;\n",
       "    }\n",
       "\n",
       "    .dataframe tbody tr th {\n",
       "        vertical-align: top;\n",
       "    }\n",
       "\n",
       "    .dataframe thead th {\n",
       "        text-align: right;\n",
       "    }\n",
       "</style>\n",
       "<table border=\"1\" class=\"dataframe\">\n",
       "  <thead>\n",
       "    <tr style=\"text-align: right;\">\n",
       "      <th></th>\n",
       "      <th>STATISTIC</th>\n",
       "      <th>C03634V04374</th>\n",
       "      <th>UNIT</th>\n",
       "      <th>year</th>\n",
       "      <th>month</th>\n",
       "      <th>day</th>\n",
       "    </tr>\n",
       "    <tr>\n",
       "      <th>VALUE</th>\n",
       "      <th></th>\n",
       "      <th></th>\n",
       "      <th></th>\n",
       "      <th></th>\n",
       "      <th></th>\n",
       "      <th></th>\n",
       "    </tr>\n",
       "  </thead>\n",
       "  <tbody>\n",
       "    <tr>\n",
       "      <th>0</th>\n",
       "      <td>6.333333</td>\n",
       "      <td>14.776119</td>\n",
       "      <td>0.777778</td>\n",
       "      <td>2020.477612</td>\n",
       "      <td>6.701493</td>\n",
       "      <td>16.455224</td>\n",
       "    </tr>\n",
       "    <tr>\n",
       "      <th>775</th>\n",
       "      <td>11.000000</td>\n",
       "      <td>10.000000</td>\n",
       "      <td>0.000000</td>\n",
       "      <td>2020.000000</td>\n",
       "      <td>4.000000</td>\n",
       "      <td>12.000000</td>\n",
       "    </tr>\n",
       "    <tr>\n",
       "      <th>819</th>\n",
       "      <td>11.000000</td>\n",
       "      <td>10.000000</td>\n",
       "      <td>0.000000</td>\n",
       "      <td>2020.000000</td>\n",
       "      <td>3.000000</td>\n",
       "      <td>29.000000</td>\n",
       "    </tr>\n",
       "    <tr>\n",
       "      <th>885</th>\n",
       "      <td>11.000000</td>\n",
       "      <td>10.000000</td>\n",
       "      <td>0.000000</td>\n",
       "      <td>2020.000000</td>\n",
       "      <td>4.000000</td>\n",
       "      <td>5.000000</td>\n",
       "    </tr>\n",
       "    <tr>\n",
       "      <th>978</th>\n",
       "      <td>11.000000</td>\n",
       "      <td>10.000000</td>\n",
       "      <td>0.000000</td>\n",
       "      <td>2020.000000</td>\n",
       "      <td>5.000000</td>\n",
       "      <td>10.000000</td>\n",
       "    </tr>\n",
       "    <tr>\n",
       "      <th>...</th>\n",
       "      <td>...</td>\n",
       "      <td>...</td>\n",
       "      <td>...</td>\n",
       "      <td>...</td>\n",
       "      <td>...</td>\n",
       "      <td>...</td>\n",
       "    </tr>\n",
       "    <tr>\n",
       "      <th>30198664</th>\n",
       "      <td>12.000000</td>\n",
       "      <td>20.000000</td>\n",
       "      <td>1.000000</td>\n",
       "      <td>2020.000000</td>\n",
       "      <td>9.000000</td>\n",
       "      <td>5.000000</td>\n",
       "    </tr>\n",
       "    <tr>\n",
       "      <th>30287537</th>\n",
       "      <td>12.000000</td>\n",
       "      <td>20.000000</td>\n",
       "      <td>1.000000</td>\n",
       "      <td>2020.000000</td>\n",
       "      <td>9.000000</td>\n",
       "      <td>4.000000</td>\n",
       "    </tr>\n",
       "    <tr>\n",
       "      <th>30354645</th>\n",
       "      <td>12.000000</td>\n",
       "      <td>20.000000</td>\n",
       "      <td>1.000000</td>\n",
       "      <td>2020.000000</td>\n",
       "      <td>9.000000</td>\n",
       "      <td>3.000000</td>\n",
       "    </tr>\n",
       "    <tr>\n",
       "      <th>30416973</th>\n",
       "      <td>12.000000</td>\n",
       "      <td>20.000000</td>\n",
       "      <td>1.000000</td>\n",
       "      <td>2020.000000</td>\n",
       "      <td>9.000000</td>\n",
       "      <td>2.000000</td>\n",
       "    </tr>\n",
       "    <tr>\n",
       "      <th>30503760</th>\n",
       "      <td>12.000000</td>\n",
       "      <td>20.000000</td>\n",
       "      <td>1.000000</td>\n",
       "      <td>2020.000000</td>\n",
       "      <td>9.000000</td>\n",
       "      <td>1.000000</td>\n",
       "    </tr>\n",
       "  </tbody>\n",
       "</table>\n",
       "<p>8097 rows × 6 columns</p>\n",
       "</div>"
      ],
      "text/plain": [
       "          STATISTIC  C03634V04374      UNIT         year     month        day\n",
       "VALUE                                                                        \n",
       "0          6.333333     14.776119  0.777778  2020.477612  6.701493  16.455224\n",
       "775       11.000000     10.000000  0.000000  2020.000000  4.000000  12.000000\n",
       "819       11.000000     10.000000  0.000000  2020.000000  3.000000  29.000000\n",
       "885       11.000000     10.000000  0.000000  2020.000000  4.000000   5.000000\n",
       "978       11.000000     10.000000  0.000000  2020.000000  5.000000  10.000000\n",
       "...             ...           ...       ...          ...       ...        ...\n",
       "30198664  12.000000     20.000000  1.000000  2020.000000  9.000000   5.000000\n",
       "30287537  12.000000     20.000000  1.000000  2020.000000  9.000000   4.000000\n",
       "30354645  12.000000     20.000000  1.000000  2020.000000  9.000000   3.000000\n",
       "30416973  12.000000     20.000000  1.000000  2020.000000  9.000000   2.000000\n",
       "30503760  12.000000     20.000000  1.000000  2020.000000  9.000000   1.000000\n",
       "\n",
       "[8097 rows x 6 columns]"
      ]
     },
     "execution_count": 21,
     "metadata": {},
     "output_type": "execute_result"
    }
   ],
   "source": [
    "# Lets group the numerical values related with the feature: VALUE\n",
    "df3.groupby(\"VALUE\").mean()"
   ]
  },
  {
   "cell_type": "code",
   "execution_count": 22,
   "id": "eb902730-129e-4e14-b0b1-da0b48aa8719",
   "metadata": {},
   "outputs": [
    {
     "name": "stdout",
     "output_type": "stream",
     "text": [
      "Total duplicated rows: 0\n"
     ]
    }
   ],
   "source": [
    "def get_total_duplicate_rows(df3):\n",
    "    # Read the dataset into a Pandas DataFrame\n",
    "    df3 = pd.read_csv(df3)\n",
    "\n",
    "    # Find duplicate rows in the DataFrame\n",
    "    duplicate_mask = df3.duplicated()\n",
    "\n",
    "    # Get the total number of duplicated rows\n",
    "    total_duplicates = duplicate_mask.sum()\n",
    "\n",
    "    return total_duplicates\n",
    "\n",
    "# Test the function\n",
    "csv_file = \"credit_card_fraud.csv\"\n",
    "total_duplicates = get_total_duplicate_rows(csv_file)\n",
    "print(\"Total duplicated rows:\", total_duplicates)"
   ]
  },
  {
   "cell_type": "markdown",
   "id": "1bcced34-c35f-422c-b191-85673e92f70f",
   "metadata": {},
   "source": [
    "### Comments\n",
    "- This will help us to determine whether our data set contains a duplicate row or not."
   ]
  },
  {
   "cell_type": "code",
   "execution_count": 23,
   "id": "24b21eae-75ea-4f2e-8061-1b9c798710a8",
   "metadata": {
    "tags": []
   },
   "outputs": [
    {
     "name": "stdout",
     "output_type": "stream",
     "text": [
      "Count of 0s: 4690\n",
      "Count of 1s: 4690\n"
     ]
    }
   ],
   "source": [
    "# Count the occurrences of each unique value in the \"UNIT\" column\n",
    "Unit_counts = df3[\"UNIT\"].value_counts()\n",
    "\n",
    "# Access the counts for 0 and 1\n",
    "count_of_zeros = Unit_counts.get(0, 0)  # Get the count of 0s, default to 0 if not present\n",
    "count_of_ones = Unit_counts.get(1, 0)   # Get the count of 1s, default to 0 if not present\n",
    "\n",
    "print(\"Count of 0s:\", count_of_zeros)\n",
    "print(\"Count of 1s:\", count_of_ones)"
   ]
  },
  {
   "cell_type": "markdown",
   "id": "a5b0039a-21d8-433e-8a4c-121faa6d50a9",
   "metadata": {},
   "source": [
    "# Data Visualisations"
   ]
  },
  {
   "cell_type": "code",
   "execution_count": 24,
   "id": "56282bb1-5229-4f3d-90d2-d040820efaba",
   "metadata": {},
   "outputs": [
    {
     "data": {
      "image/png": "[encoded data removed]",
      "text/plain": [
       "<Figure size 1000x500 with 1 Axes>"
      ]
     },
     "metadata": {},
     "output_type": "display_data"
    }
   ],
   "source": [
    "# Plot the distribution\n",
    "fig, ax = plt.subplots(1,1, figsize=(10,5)) # create a plot grid to view all at once\n",
    "ax.set_title(\"Count of Transaction per Month\") # Set graph title \n",
    "g = sns.barplot(data=df3, x=\"month\", y=\"VALUE\", hue=\"UNIT\", ax=ax) \n",
    "plt.tight_layout()"
   ]
  },
  {
   "cell_type": "code",
   "execution_count": 25,
   "id": "a8a2c70d-8118-49ad-bbfc-2bd2e3c83ff7",
   "metadata": {},
   "outputs": [
    {
     "data": {
      "image/png": "[encoded data removed]",
      "text/plain": [
       "<Figure size 1200x600 with 1 Axes>"
      ]
     },
     "metadata": {},
     "output_type": "display_data"
    }
   ],
   "source": [
    "# Set the style for the plot (optional)\n",
    "sns.set(style=\"whitegrid\")\n",
    "\n",
    "# Create a figure and axis\n",
    "plt.figure(figsize=(12, 6))\n",
    "\n",
    "# Plot the histogram with a kernel density estimate (KDE)\n",
    "sns.histplot(df3['day'], color='red', kde=True, bins=30)\n",
    "\n",
    "# Add title and labels\n",
    "plt.title('Distribution of Time in Days', fontsize=16)\n",
    "plt.xlabel('day', fontsize=14)\n",
    "plt.ylabel('Density', fontsize=14)\n",
    "\n",
    "# Adjust tick label font size\n",
    "plt.xticks(fontsize=12)\n",
    "plt.yticks(fontsize=12)\n",
    "\n",
    "# Show the plot\n",
    "plt.show()"
   ]
  },
  {
   "cell_type": "markdown",
   "id": "47b97579-1964-47da-8bf0-b9434dc45b48",
   "metadata": {},
   "source": [
    "# Preprocessing"
   ]
  },
  {
   "cell_type": "code",
   "execution_count": 26,
   "id": "a9e49e76-5c4b-4667-a0ed-8fc249a1c6b8",
   "metadata": {},
   "outputs": [
    {
     "data": {
      "text/html": [
       "<div>\n",
       "<style scoped>\n",
       "    .dataframe tbody tr th:only-of-type {\n",
       "        vertical-align: middle;\n",
       "    }\n",
       "\n",
       "    .dataframe tbody tr th {\n",
       "        vertical-align: top;\n",
       "    }\n",
       "\n",
       "    .dataframe thead th {\n",
       "        text-align: right;\n",
       "    }\n",
       "</style>\n",
       "<table border=\"1\" class=\"dataframe\">\n",
       "  <thead>\n",
       "    <tr style=\"text-align: right;\">\n",
       "      <th></th>\n",
       "      <th>STATISTIC</th>\n",
       "      <th>C03634V04374</th>\n",
       "      <th>UNIT</th>\n",
       "      <th>VALUE</th>\n",
       "      <th>year</th>\n",
       "      <th>month</th>\n",
       "      <th>day</th>\n",
       "      <th>NormalizedValue</th>\n",
       "    </tr>\n",
       "  </thead>\n",
       "  <tbody>\n",
       "    <tr>\n",
       "      <th>0</th>\n",
       "      <td>0</td>\n",
       "      <td>10</td>\n",
       "      <td>1</td>\n",
       "      <td>3259740</td>\n",
       "      <td>2020</td>\n",
       "      <td>3</td>\n",
       "      <td>1</td>\n",
       "      <td>0.086248</td>\n",
       "    </tr>\n",
       "    <tr>\n",
       "      <th>2</th>\n",
       "      <td>0</td>\n",
       "      <td>10</td>\n",
       "      <td>1</td>\n",
       "      <td>3245856</td>\n",
       "      <td>2020</td>\n",
       "      <td>3</td>\n",
       "      <td>2</td>\n",
       "      <td>0.084145</td>\n",
       "    </tr>\n",
       "    <tr>\n",
       "      <th>4</th>\n",
       "      <td>0</td>\n",
       "      <td>10</td>\n",
       "      <td>1</td>\n",
       "      <td>3392281</td>\n",
       "      <td>2020</td>\n",
       "      <td>3</td>\n",
       "      <td>3</td>\n",
       "      <td>0.106322</td>\n",
       "    </tr>\n",
       "    <tr>\n",
       "      <th>6</th>\n",
       "      <td>0</td>\n",
       "      <td>10</td>\n",
       "      <td>1</td>\n",
       "      <td>3419662</td>\n",
       "      <td>2020</td>\n",
       "      <td>3</td>\n",
       "      <td>4</td>\n",
       "      <td>0.110469</td>\n",
       "    </tr>\n",
       "    <tr>\n",
       "      <th>8</th>\n",
       "      <td>0</td>\n",
       "      <td>10</td>\n",
       "      <td>1</td>\n",
       "      <td>3860407</td>\n",
       "      <td>2020</td>\n",
       "      <td>3</td>\n",
       "      <td>5</td>\n",
       "      <td>0.177222</td>\n",
       "    </tr>\n",
       "  </tbody>\n",
       "</table>\n",
       "</div>"
      ],
      "text/plain": [
       "   STATISTIC  C03634V04374  UNIT    VALUE  year  month  day  NormalizedValue\n",
       "0          0            10     1  3259740  2020      3    1         0.086248\n",
       "2          0            10     1  3245856  2020      3    2         0.084145\n",
       "4          0            10     1  3392281  2020      3    3         0.106322\n",
       "6          0            10     1  3419662  2020      3    4         0.110469\n",
       "8          0            10     1  3860407  2020      3    5         0.177222"
      ]
     },
     "execution_count": 26,
     "metadata": {},
     "output_type": "execute_result"
    }
   ],
   "source": [
    "# scaling needs to be done for Amount column only\n",
    "ss = StandardScaler()\n",
    "df3[\"NormalizedValue\"]=ss.fit_transform(df3[\"VALUE\"].values.reshape(-1,1))\n",
    "df3.head()"
   ]
  },
  {
   "cell_type": "markdown",
   "id": "0f768bbc-77fe-4178-be99-717b697e9d71",
   "metadata": {},
   "source": [
    "# Identify Correlation with the features"
   ]
  },
  {
   "cell_type": "code",
   "execution_count": 27,
   "id": "7dd65ef6-548c-4245-b4c6-bcb2e0cb2841",
   "metadata": {
    "tags": []
   },
   "outputs": [
    {
     "data": {
      "image/png": "[encoded data removed]",
      "text/plain": [
       "<Figure size 1000x800 with 2 Axes>"
      ]
     },
     "metadata": {},
     "output_type": "display_data"
    }
   ],
   "source": [
    "# correlation heatmap:\n",
    "corr = df3.corr()\n",
    "# Plot the heatmap\n",
    "plt.figure(figsize=(10, 8))\n",
    "sns.heatmap(corr, xticklabels=corr.columns, yticklabels=corr.columns, linewidths=0.1, cmap=\"BuPu\", annot=True)\n",
    "plt.title('Correlation Heatmap')\n",
    "plt.show()"
   ]
  },
  {
   "cell_type": "code",
   "execution_count": 28,
   "id": "e532412c-f6d4-4820-8c0d-d020803fd1f3",
   "metadata": {},
   "outputs": [
    {
     "data": {
      "text/plain": [
       "Text(0.5, 1.0, 'Correlation between features')"
      ]
     },
     "execution_count": 28,
     "metadata": {},
     "output_type": "execute_result"
    },
    {
     "data": {
      "image/png": "[encoded data removed]",
      "text/plain": [
       "<Figure size 1500x700 with 2 Axes>"
      ]
     },
     "metadata": {},
     "output_type": "display_data"
    }
   ],
   "source": [
    "plt.figure(figsize=(15,7))\n",
    "sns.heatmap(df3.corr(), annot=True)\n",
    "plt.title(\"Correlation between features\")"
   ]
  },
  {
   "cell_type": "markdown",
   "id": "7d6127dd-410b-4bfe-8b2c-c5877d9bd600",
   "metadata": {},
   "source": [
    "# SMOTE to handle class imbalance"
   ]
  },
  {
   "cell_type": "code",
   "execution_count": 29,
   "id": "5c1f6728-b7dd-4573-8bfe-f551c073159d",
   "metadata": {
    "tags": []
   },
   "outputs": [],
   "source": [
    "features = df3.drop('UNIT', axis=1)\n",
    "labels = df3['UNIT']"
   ]
  },
  {
   "cell_type": "code",
   "execution_count": 30,
   "id": "f1920a45-616b-48ff-b722-0c94a7c22dff",
   "metadata": {},
   "outputs": [
    {
     "name": "stdout",
     "output_type": "stream",
     "text": [
      "Best alpha using built-in LassoCV: 1181.503481\n",
      "Best score using built-in LassoCV: 0.128084\n",
      "Lasso picked 1 variables and eliminated the other 6 variables\n"
     ]
    },
    {
     "data": {
      "image/png": "[encoded data removed]",
      "text/plain": [
       "<Figure size 800x1000 with 1 Axes>"
      ]
     },
     "metadata": {},
     "output_type": "display_data"
    }
   ],
   "source": [
    "X_cols = ['STATISTIC', 'C03634V04374', 'VALUE', 'year', 'month', 'day', 'NormalizedValue' ] \n",
    "Y_cols = 'UNIT'  \n",
    "\n",
    "# Feature selection\n",
    "x = df3[X_cols]  # Feature Matrix\n",
    "y = df3[Y_cols]  # Target Variable\n",
    "\n",
    "reg = LassoCV()\n",
    "reg.fit(x, y)\n",
    "print(\"Best alpha using built-in LassoCV: %f\" % reg.alpha_)\n",
    "print(\"Best score using built-in LassoCV: %f\" % reg.score(x, y))\n",
    "coef = pd.Series(reg.coef_, index=x.columns)\n",
    "\n",
    "print(\"Lasso picked \" + str(sum(coef != 0)) + \" variables and eliminated the other \" +\n",
    "      str(sum(coef == 0)) + \" variables\")\n",
    "imp_coef = coef.sort_values()\n",
    "plt.rcParams['figure.figsize'] = (8.0, 10.0)\n",
    "imp_coef.plot(kind=\"barh\")\n",
    "plt.title(\"Feature importance using Lasso Model\")\n",
    "plt.show()"
   ]
  },
  {
   "cell_type": "code",
   "execution_count": 31,
   "id": "225ce784-ff2d-44a8-8179-a79370531a4a",
   "metadata": {
    "tags": []
   },
   "outputs": [
    {
     "name": "stdout",
     "output_type": "stream",
     "text": [
      "Number samples X_train dataset:  (6566, 7)\n",
      "Number samples y_train dataset:  (6566,)\n",
      "Number samples X_test dataset:  (2814, 7)\n",
      "Number samples y_test dataset:  (2814,)\n"
     ]
    }
   ],
   "source": [
    "X_train, X_test, y_train, y_test = train_test_split(features, labels, test_size=0.3, random_state=0)\n",
    "\n",
    "print(\"Number samples X_train dataset: \", X_train.shape)\n",
    "print(\"Number samples y_train dataset: \", y_train.shape)\n",
    "print(\"Number samples X_test dataset: \", X_test.shape)\n",
    "print(\"Number samples y_test dataset: \", y_test.shape)"
   ]
  },
  {
   "cell_type": "code",
   "execution_count": 32,
   "id": "3c03a28b-f9e6-494d-aa68-e1db795035a1",
   "metadata": {
    "tags": []
   },
   "outputs": [
    {
     "name": "stdout",
     "output_type": "stream",
     "text": [
      "Before OverSampling, counts of label '1': 3282\n",
      "Before OverSampling, counts of label '0': 3284 \n",
      "\n",
      "After OverSampling, the shape of train_X: (6568, 7)\n",
      "After OverSampling, the shape of train_y: (6568,) \n",
      "\n",
      "After OverSampling, counts of label '1': 3284\n",
      "After OverSampling, counts of label '0': 3284\n"
     ]
    }
   ],
   "source": [
    "print(\"Before OverSampling, counts of label '1': {}\".format(sum(y_train==1)))\n",
    "print(\"Before OverSampling, counts of label '0': {} \\n\".format(sum(y_train==0)))\n",
    "\n",
    "sm = SMOTE(random_state=10)\n",
    "X_train_res, y_train_res = sm.fit_resample(X_train, y_train.ravel())\n",
    "\n",
    "print('After OverSampling, the shape of train_X: {}'.format(X_train_res.shape))\n",
    "print('After OverSampling, the shape of train_y: {} \\n'.format(y_train_res.shape))\n",
    "\n",
    "print(\"After OverSampling, counts of label '1': {}\".format(sum(y_train_res==1)))\n",
    "print(\"After OverSampling, counts of label '0': {}\".format(sum(y_train_res==0)))"
   ]
  },
  {
   "cell_type": "markdown",
   "id": "2651e453-398d-4c80-86c0-aea224dae705",
   "metadata": {},
   "source": [
    "# Define X(predictors) and Y(label/target)\n",
    "- According to the output obtaines, since the dataset is very limited of features, as we could identify in the previous analysis, there are different factors that could be involved to detect credit card frau, however this dataset doesn't contains those relavant features. \n",
    "- So, let's see how it performs. "
   ]
  },
  {
   "cell_type": "markdown",
   "id": "71de1e22-1978-4048-ba32-a91a1bdd80b4",
   "metadata": {},
   "source": [
    "## Splitting of data in training and testing"
   ]
  },
  {
   "cell_type": "code",
   "execution_count": 33,
   "id": "111646ac-34e5-4cfe-acc8-8638f8abf0ad",
   "metadata": {},
   "outputs": [
    {
     "name": "stdout",
     "output_type": "stream",
     "text": [
      "After OverSampling, the shape of train_X: (4597, 7)\n",
      "After OverSampling, the shape of train_y: (4597,) \n",
      "\n",
      "After OverSampling, counts of label '1': 2301\n",
      "After OverSampling, counts of label '0': 2296\n"
     ]
    }
   ],
   "source": [
    "# Splitting the oversampled data into training and testing sets\n",
    "xtrain_res, xtest, ytrain_res, ytest = train_test_split(X_train_res, y_train_res, test_size=0.3, random_state=0)\n",
    "\n",
    "# Print the shapes and counts\n",
    "print('After OverSampling, the shape of train_X: {}'.format(xtrain_res.shape))\n",
    "print('After OverSampling, the shape of train_y: {} \\n'.format(ytrain_res.shape))\n",
    "\n",
    "print(\"After OverSampling, counts of label '1': {}\".format(sum(ytrain_res == 1)))\n",
    "print(\"After OverSampling, counts of label '0': {}\".format(sum(ytrain_res == 0)))"
   ]
  },
  {
   "cell_type": "code",
   "execution_count": 34,
   "id": "362b3fdb-e56d-4618-8809-b48d87cc932b",
   "metadata": {
    "tags": []
   },
   "outputs": [
    {
     "data": {
      "text/plain": [
       "((4597, 7), (1971, 7), (4597,), (1971,))"
      ]
     },
     "execution_count": 34,
     "metadata": {},
     "output_type": "execute_result"
    }
   ],
   "source": [
    "xtrain_res.shape, xtest.shape, ytrain_res.shape, ytest.shape"
   ]
  },
  {
   "cell_type": "markdown",
   "id": "f3ff8a40-4fc8-4c25-b9f8-a8ad74e16038",
   "metadata": {},
   "source": [
    "# Neural Network"
   ]
  },
  {
   "cell_type": "code",
   "execution_count": 35,
   "id": "7fdab371-d01a-4f33-9fba-9666231dc456",
   "metadata": {
    "tags": []
   },
   "outputs": [],
   "source": [
    "# Define your neural network model\n",
    "model = Sequential([\n",
    "    Dense(units=16, input_dim=7, activation='relu'),\n",
    "    Dense(units=24, activation='relu'),\n",
    "    Dropout(0.5),\n",
    "    Dense(units=20, activation='relu'),\n",
    "    Dense(units=24, activation='relu'),\n",
    "    Dense(units=1, activation='sigmoid')\n",
    "])"
   ]
  },
  {
   "cell_type": "markdown",
   "id": "293c48d4-c6c8-4643-9cbd-6264b043e981",
   "metadata": {},
   "source": [
    "# Model Training"
   ]
  },
  {
   "cell_type": "code",
   "execution_count": 36,
   "id": "dde96f4c-971d-47a2-85d4-39b46bd9def3",
   "metadata": {
    "tags": []
   },
   "outputs": [
    {
     "name": "stdout",
     "output_type": "stream",
     "text": [
      "Epoch 1/5\n",
      "307/307 [==============================] - 1s 900us/step - loss: 14452.1865 - accuracy: 0.5051\n",
      "Epoch 2/5\n",
      "307/307 [==============================] - 0s 850us/step - loss: 2077.4944 - accuracy: 0.5182\n",
      "Epoch 3/5\n",
      "307/307 [==============================] - 0s 829us/step - loss: 658.8130 - accuracy: 0.5377\n",
      "Epoch 4/5\n",
      "307/307 [==============================] - 0s 965us/step - loss: 169.7999 - accuracy: 0.5749\n",
      "Epoch 5/5\n",
      "307/307 [==============================] - 0s 872us/step - loss: 137.1003 - accuracy: 0.5780\n"
     ]
    },
    {
     "data": {
      "text/plain": [
       "<keras.callbacks.History at 0x1c36c7cceb0>"
      ]
     },
     "execution_count": 36,
     "metadata": {},
     "output_type": "execute_result"
    }
   ],
   "source": [
    "# Compile the model\n",
    "model.compile(optimizer='adam', loss='binary_crossentropy', metrics=['accuracy'])\n",
    "\n",
    "# Train your model using the oversampled training data\n",
    "model.fit(xtrain_res, ytrain_res, batch_size=15, epochs=5)"
   ]
  },
  {
   "cell_type": "code",
   "execution_count": 37,
   "id": "eb85f679-ef14-473f-968a-f2d7b02c1e18",
   "metadata": {},
   "outputs": [
    {
     "name": "stdout",
     "output_type": "stream",
     "text": [
      "62/62 [==============================] - 0s 737us/step - loss: 36.5913 - accuracy: 0.5647\n"
     ]
    },
    {
     "data": {
      "text/plain": [
       "[36.59130859375, 0.564687967300415]"
      ]
     },
     "execution_count": 37,
     "metadata": {},
     "output_type": "execute_result"
    }
   ],
   "source": [
    "model.evaluate(xtest,ytest)"
   ]
  },
  {
   "cell_type": "markdown",
   "id": "2890cf80-0ff4-4f49-b977-3bdbaf670011",
   "metadata": {},
   "source": [
    "# Prediction of the dataset"
   ]
  },
  {
   "cell_type": "code",
   "execution_count": 38,
   "id": "ef5008f4-ea73-454b-ba99-c9166820f92d",
   "metadata": {
    "tags": []
   },
   "outputs": [
    {
     "name": "stdout",
     "output_type": "stream",
     "text": [
      "62/62 [==============================] - 0s 646us/step\n",
      "Head of the prediction array:\n",
      "[[1.]\n",
      " [1.]\n",
      " [1.]\n",
      " [1.]\n",
      " [1.]]\n",
      "Accuracy score is:  0.5647\n",
      "============================================\n",
      "Classification report: \n",
      "               precision    recall  f1-score   support\n",
      "\n",
      "           0       0.61      0.37      0.46       988\n",
      "           1       0.55      0.76      0.64       983\n",
      "\n",
      "    accuracy                           0.56      1971\n",
      "   macro avg       0.58      0.57      0.55      1971\n",
      "weighted avg       0.58      0.56      0.55      1971\n",
      "\n",
      "============================================\n",
      "Confusion Matrix: \n",
      " [[362 626]\n",
      " [232 751]]\n"
     ]
    },
    {
     "data": {
      "image/png": "[encoded data removed]",
      "text/plain": [
       "<Figure size 800x600 with 1 Axes>"
      ]
     },
     "metadata": {},
     "output_type": "display_data"
    },
    {
     "name": "stdout",
     "output_type": "stream",
     "text": [
      "206/206 [==============================] - 0s 576us/step\n"
     ]
    }
   ],
   "source": [
    "# Make predictions on the test set\n",
    "y_pred = model.predict(xtest)\n",
    "\n",
    "# Print the head of the prediction array\n",
    "print(\"Head of the prediction array:\")\n",
    "print(y_pred[:5])  # Print the first 5 rows\n",
    "\n",
    "# Calculate and print accuracy, classification report, and confusion matrix\n",
    "print('Accuracy score is: ', round(accuracy_score(ytest, y_pred.round()), 4))\n",
    "print(\"============================================\")\n",
    "print('Classification report: \\n', classification_report(ytest, y_pred.round()))\n",
    "print(\"============================================\")\n",
    "print('Confusion Matrix: \\n', confusion_matrix(ytest, y_pred.round()))\n",
    "\n",
    "# Calculate ROC curve\n",
    "fpr, tpr, thresholds = roc_curve(ytest, y_pred)\n",
    "\n",
    "# Calculate ROC AUC score\n",
    "roc_auc = roc_auc_score(ytest, y_pred)\n",
    "\n",
    "# Plot ROC curve\n",
    "import matplotlib.pyplot as plt\n",
    "\n",
    "plt.figure(figsize=(8, 6))\n",
    "plt.plot(fpr, tpr, label='ROC curve (AUC = {:.2f})'.format(roc_auc))\n",
    "plt.plot([0, 1], [0, 1], 'k--')  # Random guessing curve\n",
    "plt.xlim([0.0, 1.0])\n",
    "plt.ylim([0.0, 1.05])\n",
    "plt.xlabel('False Positive Rate (FPR)')\n",
    "plt.ylabel('True Positive Rate (TPR)')\n",
    "plt.title('Receiver Operating Characteristic (ROC) Curve')\n",
    "plt.legend(loc=\"lower right\")\n",
    "plt.show()\n",
    "\n",
    "# Make predictions on the entire dataset\n",
    "y_pred = model.predict(X_train_res)\n",
    "y_expected = y_train_res"
   ]
  },
  {
   "cell_type": "code",
   "execution_count": 39,
   "id": "aff24df5-9361-48eb-b5cb-432d4cc9bf09",
   "metadata": {
    "tags": []
   },
   "outputs": [
    {
     "name": "stdout",
     "output_type": "stream",
     "text": [
      "62/62 [==============================] - 0s 580us/step\n",
      "Count of predictions as 0: 594\n",
      "Count of predictions as 1: 1377\n"
     ]
    }
   ],
   "source": [
    "# Make predictions on the test dataset\n",
    "y_pred = model.predict(xtest)\n",
    "\n",
    "# Round the predictions to 0 or 1\n",
    "rounded_predictions = y_pred.round()\n",
    "\n",
    "# Count the number of 0s and 1s in the predictions\n",
    "count_0 = np.sum(rounded_predictions == 0)\n",
    "count_1 = np.sum(rounded_predictions == 1)\n",
    "\n",
    "print(\"Count of predictions as 0:\", count_0)\n",
    "print(\"Count of predictions as 1:\", count_1)"
   ]
  },
  {
   "cell_type": "markdown",
   "id": "4491ba2f-fb95-4305-bee2-2445884ec0b9",
   "metadata": {},
   "source": [
    "# Conclusion\n",
    "- There were several obstacles in using this dataset, beginning with the extremely few rows and features, especially because we had previously established the necessity of having enough characteristics to discover patterns. \n",
    "- In addition, I had difficulty with information collecting in general due to data protection and sensitive credit card information. \n",
    "- Different techniques were investigated, but they did not provide the desired results because the data was not labelled and was not developed specifically for this purpose, therefore we utilised one of the characteristics that may have parallels with binary classification and prediction. \n",
    "- Regardless of the problem-solving method used, skills and the capacity to adapt to difficult conditions are required for data analytics.\n"
   ]
  },
  {
   "cell_type": "code",
   "execution_count": null,
   "id": "02a52efc-36ac-4a01-82b3-7e6ab913ae07",
   "metadata": {},
   "outputs": [],
   "source": []
  }
 ],
 "metadata": {
  "kernelspec": {
   "display_name": "Python 3 (ipykernel)",
   "language": "python",
   "name": "python3"
  },
  "language_info": {
   "codemirror_mode": {
    "name": "ipython",
    "version": 3
   },
   "file_extension": ".py",
   "mimetype": "text/x-python",
   "name": "python",
   "nbconvert_exporter": "python",
   "pygments_lexer": "ipython3",
   "version": "3.9.12"
  }
 },
 "nbformat": 4,
 "nbformat_minor": 5
}
